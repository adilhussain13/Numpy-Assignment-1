{
  "nbformat": 4,
  "nbformat_minor": 0,
  "metadata": {
    "colab": {
      "name": "Assignment # 1_of_AI/AI_Numpy_Assginment",
      "provenance": [],
      "collapsed_sections": []
    },
    "kernelspec": {
      "name": "python3",
      "display_name": "Python 3"
    }
  },
  "cells": [
    {
      "cell_type": "markdown",
      "metadata": {
        "id": "6DOEyp3S4H6x"
      },
      "source": [
        "\n",
        "\n",
        "\n",
        "Assignment No1. Implement 50 methods of Numpy\n"
      ]
    },
    {
      "cell_type": "code",
      "metadata": {
        "colab": {
          "base_uri": "https://localhost:8080/"
        },
        "id": "NggO8Mb7zuE5",
        "outputId": "fa7b6725-7f38-4b4a-b82a-60f7fbce96a9"
      },
      "source": [
        "import numpy as np\n",
        "var1 = np.array(range(5)) #1st Method\n",
        "var1\n"
      ],
      "execution_count": 1,
      "outputs": [
        {
          "output_type": "execute_result",
          "data": {
            "text/plain": [
              "array([0, 1, 2, 3, 4])"
            ]
          },
          "metadata": {
            "tags": []
          },
          "execution_count": 1
        }
      ]
    },
    {
      "cell_type": "code",
      "metadata": {
        "colab": {
          "base_uri": "https://localhost:8080/"
        },
        "id": "6zXKhhEC4MzP",
        "outputId": "bb246a21-30f8-4ff5-dc47-4474b072fae3"
      },
      "source": [
        "var2 = np.zeros(4)        #2nd Method\n",
        "print(var2)\n",
        "var2 = np.zeros((2,3,4)) # zeros(Dimentions , row , column)\n",
        "var2"
      ],
      "execution_count": 2,
      "outputs": [
        {
          "output_type": "stream",
          "text": [
            "[0. 0. 0. 0.]\n"
          ],
          "name": "stdout"
        },
        {
          "output_type": "execute_result",
          "data": {
            "text/plain": [
              "array([[[0., 0., 0., 0.],\n",
              "        [0., 0., 0., 0.],\n",
              "        [0., 0., 0., 0.]],\n",
              "\n",
              "       [[0., 0., 0., 0.],\n",
              "        [0., 0., 0., 0.],\n",
              "        [0., 0., 0., 0.]]])"
            ]
          },
          "metadata": {
            "tags": []
          },
          "execution_count": 2
        }
      ]
    },
    {
      "cell_type": "code",
      "metadata": {
        "colab": {
          "base_uri": "https://localhost:8080/"
        },
        "id": "3ABh2Vm-4J7K",
        "outputId": "0218de76-7da2-4274-c6fe-3a57aa08b8db"
      },
      "source": [
        "var3 = np.ones(5)          #3rd Method\n",
        "print(var3)\n",
        "var3 = np.ones(5 , dtype=np.int)\n",
        "print(var3)\n",
        "var3 = np.ones(5 , dtype=np.bool)\n",
        "print(var3)\n",
        "var3 = np.ones(5 , dtype=np.str)\n",
        "var3"
      ],
      "execution_count": 3,
      "outputs": [
        {
          "output_type": "stream",
          "text": [
            "[1. 1. 1. 1. 1.]\n",
            "[1 1 1 1 1]\n",
            "[ True  True  True  True  True]\n"
          ],
          "name": "stdout"
        },
        {
          "output_type": "execute_result",
          "data": {
            "text/plain": [
              "array(['1', '1', '1', '1', '1'], dtype='<U1')"
            ]
          },
          "metadata": {
            "tags": []
          },
          "execution_count": 3
        }
      ]
    },
    {
      "cell_type": "code",
      "metadata": {
        "colab": {
          "base_uri": "https://localhost:8080/"
        },
        "id": "z4d5LbD550pv",
        "outputId": "01527ef4-0aca-4279-a304-2638b6ce0fc9"
      },
      "source": [
        "var4 = np.arange(7)         #4th Method\n",
        "print(var4)\n",
        "var4 = np.arange(0,11,2) #arange(StartingPoint , Endingpoint_Excluded , Increament)\n",
        "var4"
      ],
      "execution_count": 4,
      "outputs": [
        {
          "output_type": "stream",
          "text": [
            "[0 1 2 3 4 5 6]\n"
          ],
          "name": "stdout"
        },
        {
          "output_type": "execute_result",
          "data": {
            "text/plain": [
              "array([ 0,  2,  4,  6,  8, 10])"
            ]
          },
          "metadata": {
            "tags": []
          },
          "execution_count": 4
        }
      ]
    },
    {
      "cell_type": "code",
      "metadata": {
        "colab": {
          "base_uri": "https://localhost:8080/"
        },
        "id": "zLNG0xHf505m",
        "outputId": "fd8699a7-4a8f-4632-b7fb-91d4bb135a19"
      },
      "source": [
        "var5 = np.empty(5)           #5th Method\n",
        "var5 #it will returns the random value from the memory"
      ],
      "execution_count": 5,
      "outputs": [
        {
          "output_type": "execute_result",
          "data": {
            "text/plain": [
              "array([5.e-324, 5.e-324, 5.e-324, 5.e-324, 5.e-324])"
            ]
          },
          "metadata": {
            "tags": []
          },
          "execution_count": 5
        }
      ]
    },
    {
      "cell_type": "code",
      "metadata": {
        "colab": {
          "base_uri": "https://localhost:8080/"
        },
        "id": "5wmZYOQO508O",
        "outputId": "25ee7347-1e71-4458-cfe8-7c96abf893f9"
      },
      "source": [
        "var6 = np.linspace(0,11,5)   #6th Method\n",
        "#linspace(StartingPoint , Ending_Point_Included , Total_number Or specific Interval Points)\n",
        "var6"
      ],
      "execution_count": 6,
      "outputs": [
        {
          "output_type": "execute_result",
          "data": {
            "text/plain": [
              "array([ 0.  ,  2.75,  5.5 ,  8.25, 11.  ])"
            ]
          },
          "metadata": {
            "tags": []
          },
          "execution_count": 6
        }
      ]
    },
    {
      "cell_type": "code",
      "metadata": {
        "colab": {
          "base_uri": "https://localhost:8080/"
        },
        "id": "UQGFD_u250-3",
        "outputId": "9f2b7db1-7caa-46d1-e531-7ef6fcfdabc6"
      },
      "source": [
        "var7 = np.arange(3*4*4).reshape(3,4,4) #7th Method\n",
        "var7"
      ],
      "execution_count": 7,
      "outputs": [
        {
          "output_type": "execute_result",
          "data": {
            "text/plain": [
              "array([[[ 0,  1,  2,  3],\n",
              "        [ 4,  5,  6,  7],\n",
              "        [ 8,  9, 10, 11],\n",
              "        [12, 13, 14, 15]],\n",
              "\n",
              "       [[16, 17, 18, 19],\n",
              "        [20, 21, 22, 23],\n",
              "        [24, 25, 26, 27],\n",
              "        [28, 29, 30, 31]],\n",
              "\n",
              "       [[32, 33, 34, 35],\n",
              "        [36, 37, 38, 39],\n",
              "        [40, 41, 42, 43],\n",
              "        [44, 45, 46, 47]]])"
            ]
          },
          "metadata": {
            "tags": []
          },
          "execution_count": 7
        }
      ]
    },
    {
      "cell_type": "code",
      "metadata": {
        "colab": {
          "base_uri": "https://localhost:8080/"
        },
        "id": "FfWyUzE46KE0",
        "outputId": "cd870d6d-c390-411f-88ca-241f90d829d6"
      },
      "source": [
        "var7.shape #8th Method"
      ],
      "execution_count": 9,
      "outputs": [
        {
          "output_type": "execute_result",
          "data": {
            "text/plain": [
              "(3, 4, 4)"
            ]
          },
          "metadata": {
            "tags": []
          },
          "execution_count": 9
        }
      ]
    },
    {
      "cell_type": "code",
      "metadata": {
        "colab": {
          "base_uri": "https://localhost:8080/"
        },
        "id": "Dsv5HstG6KHd",
        "outputId": "53f761a0-af1e-487c-adac-06246f481e02"
      },
      "source": [
        "var7.ndim #9th Method"
      ],
      "execution_count": 10,
      "outputs": [
        {
          "output_type": "execute_result",
          "data": {
            "text/plain": [
              "3"
            ]
          },
          "metadata": {
            "tags": []
          },
          "execution_count": 10
        }
      ]
    },
    {
      "cell_type": "code",
      "metadata": {
        "colab": {
          "base_uri": "https://localhost:8080/"
        },
        "id": "IrWCtmPb6KKQ",
        "outputId": "eb9e5104-0de0-43f5-8670-c9d0ee7cb873"
      },
      "source": [
        "var7.dtype #10th Method"
      ],
      "execution_count": 11,
      "outputs": [
        {
          "output_type": "execute_result",
          "data": {
            "text/plain": [
              "dtype('int64')"
            ]
          },
          "metadata": {
            "tags": []
          },
          "execution_count": 11
        }
      ]
    },
    {
      "cell_type": "code",
      "metadata": {
        "colab": {
          "base_uri": "https://localhost:8080/",
          "height": 35
        },
        "id": "AE8qjn566KMt",
        "outputId": "4f947cd0-a7ea-4f49-9d90-1071d644be9d"
      },
      "source": [
        "var7.dtype.name  #11th Method"
      ],
      "execution_count": 12,
      "outputs": [
        {
          "output_type": "execute_result",
          "data": {
            "application/vnd.google.colaboratory.intrinsic+json": {
              "type": "string"
            },
            "text/plain": [
              "'int64'"
            ]
          },
          "metadata": {
            "tags": []
          },
          "execution_count": 12
        }
      ]
    },
    {
      "cell_type": "code",
      "metadata": {
        "colab": {
          "base_uri": "https://localhost:8080/"
        },
        "id": "wv3i7JKb6KO1",
        "outputId": "eb0f39bc-ce0a-4591-cf03-888684cea714"
      },
      "source": [
        "var7.itemsize   #12th Method>>>>>Length of one array element in bytes."
      ],
      "execution_count": 14,
      "outputs": [
        {
          "output_type": "execute_result",
          "data": {
            "text/plain": [
              "8"
            ]
          },
          "metadata": {
            "tags": []
          },
          "execution_count": 14
        }
      ]
    },
    {
      "cell_type": "code",
      "metadata": {
        "colab": {
          "base_uri": "https://localhost:8080/"
        },
        "id": "inD3lJFQ6KRj",
        "outputId": "08018cf8-a51e-4eac-e9b1-ddecd3eb9887"
      },
      "source": [
        "var7.size    #13 Method Size of array"
      ],
      "execution_count": 15,
      "outputs": [
        {
          "output_type": "execute_result",
          "data": {
            "text/plain": [
              "48"
            ]
          },
          "metadata": {
            "tags": []
          },
          "execution_count": 15
        }
      ]
    },
    {
      "cell_type": "code",
      "metadata": {
        "colab": {
          "base_uri": "https://localhost:8080/"
        },
        "id": "QTZsVRQt51BP",
        "outputId": "edfec78b-003c-46bf-dde7-05836052c04c"
      },
      "source": [
        "type(var7)    #14 Method\n"
      ],
      "execution_count": 16,
      "outputs": [
        {
          "output_type": "execute_result",
          "data": {
            "text/plain": [
              "numpy.ndarray"
            ]
          },
          "metadata": {
            "tags": []
          },
          "execution_count": 16
        }
      ]
    },
    {
      "cell_type": "code",
      "metadata": {
        "colab": {
          "base_uri": "https://localhost:8080/"
        },
        "id": "6cCncSmk7BPB",
        "outputId": "14f2ed1e-9634-4bd3-fa3e-51e3cd29ff73"
      },
      "source": [
        "var8 = np.array([9,8,6,3,5,2,7,4,1])\n",
        "print(np.sort(var8))            #15th Method>> Sorting the whole array"
      ],
      "execution_count": 17,
      "outputs": [
        {
          "output_type": "stream",
          "text": [
            "[1 2 3 4 5 6 7 8 9]\n"
          ],
          "name": "stdout"
        }
      ]
    },
    {
      "cell_type": "code",
      "metadata": {
        "colab": {
          "base_uri": "https://localhost:8080/"
        },
        "id": "mJh-GXIj7BRv",
        "outputId": "c1e7c303-c411-4204-e954-399751e19c82"
      },
      "source": [
        "a = np.array([1, 2, 3, 4])\n",
        "b = np.array([5, 6, 7, 8])\n",
        "print(np.concatenate((a,b)))    # 16th Method Concatenatoins"
      ],
      "execution_count": 18,
      "outputs": [
        {
          "output_type": "stream",
          "text": [
            "[1 2 3 4 5 6 7 8]\n"
          ],
          "name": "stdout"
        }
      ]
    },
    {
      "cell_type": "code",
      "metadata": {
        "colab": {
          "base_uri": "https://localhost:8080/"
        },
        "id": "X-99w0NI7BUD",
        "outputId": "44627987-6956-45da-8908-a2cfd5b2e629"
      },
      "source": [
        "var9 = np.array([1,2,3,4,5,6,7])\n",
        "var9 = var9[np.newaxis,:]        #  17th Method\n",
        "print(var9)\n",
        "var9.shape"
      ],
      "execution_count": 19,
      "outputs": [
        {
          "output_type": "stream",
          "text": [
            "[[1 2 3 4 5 6 7]]\n"
          ],
          "name": "stdout"
        },
        {
          "output_type": "execute_result",
          "data": {
            "text/plain": [
              "(1, 7)"
            ]
          },
          "metadata": {
            "tags": []
          },
          "execution_count": 19
        }
      ]
    },
    {
      "cell_type": "code",
      "metadata": {
        "colab": {
          "base_uri": "https://localhost:8080/"
        },
        "id": "gobgLtnK7BWk",
        "outputId": "22e8f81d-a16f-4a60-8ab4-0f829c4f5640"
      },
      "source": [
        "var9 = np.array([1,2,3,4,5,6,7])  #18\n",
        "var9 = var9[:,np.newaxis]\n",
        "print(var9)\n",
        "var9.shape"
      ],
      "execution_count": 20,
      "outputs": [
        {
          "output_type": "stream",
          "text": [
            "[[1]\n",
            " [2]\n",
            " [3]\n",
            " [4]\n",
            " [5]\n",
            " [6]\n",
            " [7]]\n"
          ],
          "name": "stdout"
        },
        {
          "output_type": "execute_result",
          "data": {
            "text/plain": [
              "(7, 1)"
            ]
          },
          "metadata": {
            "tags": []
          },
          "execution_count": 20
        }
      ]
    },
    {
      "cell_type": "code",
      "metadata": {
        "colab": {
          "base_uri": "https://localhost:8080/"
        },
        "id": "hU4YZkNx7BZE",
        "outputId": "88593172-f2aa-4060-8dfb-df45556b8e16"
      },
      "source": [
        "a = np.array([1,2,3,4,5,6,7,8,9])\n",
        "var10 = np.expand_dims(a , axis=1)#19 Method>>>>Second method Used for expending the dimention on Y-axis\n",
        "print(var10.shape)\n",
        "var10"
      ],
      "execution_count": 21,
      "outputs": [
        {
          "output_type": "stream",
          "text": [
            "(9, 1)\n"
          ],
          "name": "stdout"
        },
        {
          "output_type": "execute_result",
          "data": {
            "text/plain": [
              "array([[1],\n",
              "       [2],\n",
              "       [3],\n",
              "       [4],\n",
              "       [5],\n",
              "       [6],\n",
              "       [7],\n",
              "       [8],\n",
              "       [9]])"
            ]
          },
          "metadata": {
            "tags": []
          },
          "execution_count": 21
        }
      ]
    },
    {
      "cell_type": "code",
      "metadata": {
        "colab": {
          "base_uri": "https://localhost:8080/"
        },
        "id": "yxkPUxHD7Bbt",
        "outputId": "f309553d-36cb-4f27-8abc-60dcedea922d"
      },
      "source": [
        "a = np.array([1,2,3,4,5,6,7,8,9])\n",
        "var10 = np.expand_dims(a , axis=0)#19 Method>>>>Second method Used for expending the dimention on X-axis\n",
        "print(var10.shape)\n",
        "var10"
      ],
      "execution_count": 22,
      "outputs": [
        {
          "output_type": "stream",
          "text": [
            "(1, 9)\n"
          ],
          "name": "stdout"
        },
        {
          "output_type": "execute_result",
          "data": {
            "text/plain": [
              "array([[1, 2, 3, 4, 5, 6, 7, 8, 9]])"
            ]
          },
          "metadata": {
            "tags": []
          },
          "execution_count": 22
        }
      ]
    },
    {
      "cell_type": "code",
      "metadata": {
        "colab": {
          "base_uri": "https://localhost:8080/"
        },
        "id": "gd5A5CFq7BeR",
        "outputId": "70ba470b-d5fa-4dcc-cf90-6d91a2dfa273"
      },
      "source": [
        "a = np.array([0,1,2,3,4,5,6,7,8,9])\n",
        "var11 = a[np.nonzero(a)]          #20th Method>>>>>>>It will return all non zero elements \n",
        "var11"
      ],
      "execution_count": 23,
      "outputs": [
        {
          "output_type": "execute_result",
          "data": {
            "text/plain": [
              "array([1, 2, 3, 4, 5, 6, 7, 8, 9])"
            ]
          },
          "metadata": {
            "tags": []
          },
          "execution_count": 23
        }
      ]
    },
    {
      "cell_type": "code",
      "metadata": {
        "colab": {
          "base_uri": "https://localhost:8080/"
        },
        "id": "fdlqKN647Bgx",
        "outputId": "1fdce96c-b3a4-4cb4-bf12-234c12a6fd16"
      },
      "source": [
        "a = np.array([[0,1,2,3,4],[34,664,23,5,4],[13,68,8,4,2]])\n",
        "var11 = np.nonzero(a<5)           #21th Method>>>>>>>It will return all non zero elements \n",
        "var11"
      ],
      "execution_count": 25,
      "outputs": [
        {
          "output_type": "execute_result",
          "data": {
            "text/plain": [
              "(array([0, 0, 0, 0, 0, 1, 2, 2]), array([0, 1, 2, 3, 4, 4, 3, 4]))"
            ]
          },
          "metadata": {
            "tags": []
          },
          "execution_count": 25
        }
      ]
    },
    {
      "cell_type": "code",
      "metadata": {
        "colab": {
          "base_uri": "https://localhost:8080/"
        },
        "id": "9BXNOXq77Bjk",
        "outputId": "48457671-fb15-48e9-ce9b-d6bc1c03f9aa"
      },
      "source": [
        "a1 = np.array([[1, 1],     #22 Method>>>>>>> it will Stack arrays vertically\n",
        "               [2, 2]])\n",
        "a2 = np.array([[3, 3],\n",
        "         [4, 4]])\n",
        "var12 = np.vstack((a1,a2))   \n",
        "var12"
      ],
      "execution_count": 26,
      "outputs": [
        {
          "output_type": "execute_result",
          "data": {
            "text/plain": [
              "array([[1, 1],\n",
              "       [2, 2],\n",
              "       [3, 3],\n",
              "       [4, 4]])"
            ]
          },
          "metadata": {
            "tags": []
          },
          "execution_count": 26
        }
      ]
    },
    {
      "cell_type": "code",
      "metadata": {
        "colab": {
          "base_uri": "https://localhost:8080/"
        },
        "id": "sdjLZ04O7BnO",
        "outputId": "21991db5-a2f5-4714-c186-c86440ffbd36"
      },
      "source": [
        "\n",
        "a1 = np.array([[1, 1],    #23 Method>>>>>>> it will Stack arrays Horizentally\n",
        "               [2, 2]])\n",
        "a2 = np.array([[3, 3],\n",
        "         [4, 4]])\n",
        "var12 = np.hstack((a1,a2))       \n",
        "var12"
      ],
      "execution_count": 27,
      "outputs": [
        {
          "output_type": "execute_result",
          "data": {
            "text/plain": [
              "array([[1, 1, 3, 3],\n",
              "       [2, 2, 4, 4]])"
            ]
          },
          "metadata": {
            "tags": []
          },
          "execution_count": 27
        }
      ]
    },
    {
      "cell_type": "code",
      "metadata": {
        "colab": {
          "base_uri": "https://localhost:8080/"
        },
        "id": "egfpPL-951EQ",
        "outputId": "0cfc1287-0737-4bf8-c730-79bb5160ac44"
      },
      "source": [
        "a = np.arange(1,25).reshape(2,12)\n",
        "var13 = np.hsplit(a,3)  #24 Method>>>>>>> This method splits into many features\n",
        "var13"
      ],
      "execution_count": 28,
      "outputs": [
        {
          "output_type": "execute_result",
          "data": {
            "text/plain": [
              "[array([[ 1,  2,  3,  4],\n",
              "        [13, 14, 15, 16]]), array([[ 5,  6,  7,  8],\n",
              "        [17, 18, 19, 20]]), array([[ 9, 10, 11, 12],\n",
              "        [21, 22, 23, 24]])]"
            ]
          },
          "metadata": {
            "tags": []
          },
          "execution_count": 28
        }
      ]
    },
    {
      "cell_type": "code",
      "metadata": {
        "colab": {
          "base_uri": "https://localhost:8080/"
        },
        "id": "ckBrG0YG8TEH",
        "outputId": "37180dc5-0c80-460f-d3d5-829f2720699a"
      },
      "source": [
        "\n",
        "rng = np.random.default_rng(1)  #25 Method>>>>>>>> This method will set the defualt value\n",
        "var14 = rng.random(3)           #26 Method>>>>>>>> This method will generate 3 ramdom numbers\n",
        "var14"
      ],
      "execution_count": 29,
      "outputs": [
        {
          "output_type": "execute_result",
          "data": {
            "text/plain": [
              "array([0.51182162, 0.9504637 , 0.14415961])"
            ]
          },
          "metadata": {
            "tags": []
          },
          "execution_count": 29
        }
      ]
    },
    {
      "cell_type": "code",
      "metadata": {
        "colab": {
          "base_uri": "https://localhost:8080/"
        },
        "id": "MPPnGGeK8TGx",
        "outputId": "ca556d94-2143-4b25-bcbe-af9dc85f35a5"
      },
      "source": [
        "VAR15 = rng.integers(7, size=(2, 4)) #27 Method >>>>>> Used to genrate integer Random numbers\n",
        "VAR15"
      ],
      "execution_count": 30,
      "outputs": [
        {
          "output_type": "execute_result",
          "data": {
            "text/plain": [
              "array([[5, 6, 1, 2],\n",
              "       [6, 2, 1, 5]])"
            ]
          },
          "metadata": {
            "tags": []
          },
          "execution_count": 30
        }
      ]
    },
    {
      "cell_type": "code",
      "metadata": {
        "colab": {
          "base_uri": "https://localhost:8080/"
        },
        "id": "7JxCqygB8TJO",
        "outputId": "8abcb160-252d-4090-ac41-c1ef7e23a9d4"
      },
      "source": [
        "a = np.array([11, 11, 12, 13, 14, 15, 16, 17, 12, 13, 11, 14, 18, 19, 20])\n",
        "var16 = np.unique(a)            #28 Method will distinct the values\n",
        "var16"
      ],
      "execution_count": 31,
      "outputs": [
        {
          "output_type": "execute_result",
          "data": {
            "text/plain": [
              "array([11, 12, 13, 14, 15, 16, 17, 18, 19, 20])"
            ]
          },
          "metadata": {
            "tags": []
          },
          "execution_count": 31
        }
      ]
    },
    {
      "cell_type": "code",
      "metadata": {
        "colab": {
          "base_uri": "https://localhost:8080/"
        },
        "id": "PvnVEcor8TMC",
        "outputId": "fad5d3a4-f6fc-4d28-c5df-1e00c52c415e"
      },
      "source": [
        "arr = np.arange(6).reshape((2, 3))\n",
        "var17 = arr.transpose()          #29 it will reverse the axises\n",
        "var17"
      ],
      "execution_count": 32,
      "outputs": [
        {
          "output_type": "execute_result",
          "data": {
            "text/plain": [
              "array([[0, 3],\n",
              "       [1, 4],\n",
              "       [2, 5]])"
            ]
          },
          "metadata": {
            "tags": []
          },
          "execution_count": 32
        }
      ]
    },
    {
      "cell_type": "code",
      "metadata": {
        "colab": {
          "base_uri": "https://localhost:8080/"
        },
        "id": "6CgIJ2ju8TOl",
        "outputId": "387f8218-5d11-44a2-ab65-858102c50fca"
      },
      "source": [
        "var18 = np.array([11, 11, 12, 13, 14, 15, 16, 17, 12, 13, 11, 14, 18, 19, 20])\n",
        "var18.sum()      #30 Method"
      ],
      "execution_count": 33,
      "outputs": [
        {
          "output_type": "execute_result",
          "data": {
            "text/plain": [
              "216"
            ]
          },
          "metadata": {
            "tags": []
          },
          "execution_count": 33
        }
      ]
    },
    {
      "cell_type": "code",
      "metadata": {
        "colab": {
          "base_uri": "https://localhost:8080/"
        },
        "id": "tLkeEv2W8TQy",
        "outputId": "8751eac0-c912-4f18-8ac8-8c4d936642e6"
      },
      "source": [
        "var18 = np.array([11, 11, 12, 13, 14, 15, 16, 17, 12, 13, 11, 14, 18, 19, 20])\n",
        "var18.min()       #31 Method"
      ],
      "execution_count": 34,
      "outputs": [
        {
          "output_type": "execute_result",
          "data": {
            "text/plain": [
              "11"
            ]
          },
          "metadata": {
            "tags": []
          },
          "execution_count": 34
        }
      ]
    },
    {
      "cell_type": "code",
      "metadata": {
        "colab": {
          "base_uri": "https://localhost:8080/"
        },
        "id": "74rQLaJQ8TTu",
        "outputId": "e82ccc5d-4250-4119-a8b6-cdf45a4989b3"
      },
      "source": [
        "var18 = np.array([11, 11, 12, 13, 14, 15, 16, 17, 12, 13, 11, 14, 18, 19, 20])\n",
        "var18.max()         #32 Method"
      ],
      "execution_count": 35,
      "outputs": [
        {
          "output_type": "execute_result",
          "data": {
            "text/plain": [
              "20"
            ]
          },
          "metadata": {
            "tags": []
          },
          "execution_count": 35
        }
      ]
    },
    {
      "cell_type": "code",
      "metadata": {
        "colab": {
          "base_uri": "https://localhost:8080/"
        },
        "id": "-XXVKpTx8TZE",
        "outputId": "f70d3a46-81f2-4660-a864-6b40a7d729b4"
      },
      "source": [
        "a = np.array([11, 11, 12, 13, 14, 15, 16, 17, 12, 13, 11, 14, 18, 19, 20])\n",
        "var19 = np.flip(a)                #33 Method\n",
        "var19"
      ],
      "execution_count": 36,
      "outputs": [
        {
          "output_type": "execute_result",
          "data": {
            "text/plain": [
              "array([20, 19, 18, 14, 11, 13, 12, 17, 16, 15, 14, 13, 12, 11, 11])"
            ]
          },
          "metadata": {
            "tags": []
          },
          "execution_count": 36
        }
      ]
    },
    {
      "cell_type": "code",
      "metadata": {
        "colab": {
          "base_uri": "https://localhost:8080/"
        },
        "id": "a01kxc_p8Tbv",
        "outputId": "13e6333d-9444-409b-b228-e1f433789a7b"
      },
      "source": [
        "x = np.array([[1 , 2, 3, 4], [5, 6, 7, 8], [9, 10, 11, 12]])\n",
        "var20 = x.flatten() #34 Method,  When you use flatten, changes to your new array won’t change the parent array.\n",
        "var20[0] = 99\n",
        "print(x)\n",
        "var20"
      ],
      "execution_count": 37,
      "outputs": [
        {
          "output_type": "stream",
          "text": [
            "[[ 1  2  3  4]\n",
            " [ 5  6  7  8]\n",
            " [ 9 10 11 12]]\n"
          ],
          "name": "stdout"
        },
        {
          "output_type": "execute_result",
          "data": {
            "text/plain": [
              "array([99,  2,  3,  4,  5,  6,  7,  8,  9, 10, 11, 12])"
            ]
          },
          "metadata": {
            "tags": []
          },
          "execution_count": 37
        }
      ]
    },
    {
      "cell_type": "code",
      "metadata": {
        "colab": {
          "base_uri": "https://localhost:8080/"
        },
        "id": "xKln9Vg68TeY",
        "outputId": "1b648952-dc3f-44b1-f75b-faec75e97380"
      },
      "source": [
        "x = np.array([[1 , 2, 3, 4], [5, 6, 7, 8], [9, 10, 11, 12]])\n",
        "var20 = x.ravel()                #35 Method,when you use ravel, the changes you make to the new array will affect the parent array.\n",
        "var20[0] = 99\n",
        "print(x)\n",
        "var20"
      ],
      "execution_count": 38,
      "outputs": [
        {
          "output_type": "stream",
          "text": [
            "[[99  2  3  4]\n",
            " [ 5  6  7  8]\n",
            " [ 9 10 11 12]]\n"
          ],
          "name": "stdout"
        },
        {
          "output_type": "execute_result",
          "data": {
            "text/plain": [
              "array([99,  2,  3,  4,  5,  6,  7,  8,  9, 10, 11, 12])"
            ]
          },
          "metadata": {
            "tags": []
          },
          "execution_count": 38
        }
      ]
    },
    {
      "cell_type": "code",
      "metadata": {
        "colab": {
          "base_uri": "https://localhost:8080/"
        },
        "id": "PaqiATqt8ThW",
        "outputId": "a6c0e3c2-1ab4-419e-f9e6-a3296dc5e7ee"
      },
      "source": [
        "a = np.array([1,2,3])\n",
        "np.r_[np.repeat(a, 3), np.tile(a, 3)] #36"
      ],
      "execution_count": 39,
      "outputs": [
        {
          "output_type": "execute_result",
          "data": {
            "text/plain": [
              "array([1, 1, 1, 2, 2, 2, 3, 3, 3, 1, 2, 3, 1, 2, 3, 1, 2, 3])"
            ]
          },
          "metadata": {
            "tags": []
          },
          "execution_count": 39
        }
      ]
    },
    {
      "cell_type": "code",
      "metadata": {
        "colab": {
          "base_uri": "https://localhost:8080/"
        },
        "id": "EB8TFV0P9E1W",
        "outputId": "71663732-142e-419d-c810-bf34879d48d1"
      },
      "source": [
        "a = np.array([1,2,3,2,3,4,3,4,5,6])\n",
        "b = np.array([7,2,10,2,7,4,9,4,9,8])\n",
        "var21 = np.intersect1d(a,b)           #37 Method Intersactoin Between 2 Points\n",
        "var21"
      ],
      "execution_count": 40,
      "outputs": [
        {
          "output_type": "execute_result",
          "data": {
            "text/plain": [
              "array([2, 4])"
            ]
          },
          "metadata": {
            "tags": []
          },
          "execution_count": 40
        }
      ]
    },
    {
      "cell_type": "code",
      "metadata": {
        "colab": {
          "base_uri": "https://localhost:8080/"
        },
        "id": "AcYgFi6X9E4M",
        "outputId": "9a4fa129-c427-4322-94fb-5ed662dd65c1"
      },
      "source": [
        "a = np.array([1,2,3,4,5])\n",
        "b = np.array([5,6,7,8,9])\n",
        "var22 = np.setdiff1d(a,b)  #38 Method \n",
        "var22"
      ],
      "execution_count": 41,
      "outputs": [
        {
          "output_type": "execute_result",
          "data": {
            "text/plain": [
              "array([1, 2, 3, 4])"
            ]
          },
          "metadata": {
            "tags": []
          },
          "execution_count": 41
        }
      ]
    },
    {
      "cell_type": "code",
      "metadata": {
        "colab": {
          "base_uri": "https://localhost:8080/"
        },
        "id": "dMgeSLf79E68",
        "outputId": "98ea9f06-6c95-4d48-86c5-2c87706ccf00"
      },
      "source": [
        "a = np.array([1,2,3,2,3,4,3,4,5,6])\n",
        "b = np.array([7,2,10,2,7,4,9,4,9,8])\n",
        "var23 = np.where(a==b)             #39 Method Get possition where both have same elements\n",
        "var23"
      ],
      "execution_count": 42,
      "outputs": [
        {
          "output_type": "execute_result",
          "data": {
            "text/plain": [
              "(array([1, 3, 5, 7]),)"
            ]
          },
          "metadata": {
            "tags": []
          },
          "execution_count": 42
        }
      ]
    },
    {
      "cell_type": "code",
      "metadata": {
        "colab": {
          "base_uri": "https://localhost:8080/"
        },
        "id": "JDFhUY6p9E-L",
        "outputId": "505d632a-4859-49af-9ddc-2bae9e70dc15"
      },
      "source": [
        "a = np.array([1,2,3,2,4,3,4,5,6])\n",
        "b = np.array([7,2,10,2,7,4,9,4,9])\n",
        "var24 = np.column_stack((a,b))     #40 Method convert Rows into column\n",
        "var24"
      ],
      "execution_count": 43,
      "outputs": [
        {
          "output_type": "execute_result",
          "data": {
            "text/plain": [
              "array([[ 1,  7],\n",
              "       [ 2,  2],\n",
              "       [ 3, 10],\n",
              "       [ 2,  2],\n",
              "       [ 4,  7],\n",
              "       [ 3,  4],\n",
              "       [ 4,  9],\n",
              "       [ 5,  4],\n",
              "       [ 6,  9]])"
            ]
          },
          "metadata": {
            "tags": []
          },
          "execution_count": 43
        }
      ]
    },
    {
      "cell_type": "code",
      "metadata": {
        "colab": {
          "base_uri": "https://localhost:8080/"
        },
        "id": "NjB7aIuY9FAL",
        "outputId": "2ae07492-e9d0-46c7-b241-607e57dabdb5"
      },
      "source": [
        "var25=np.all([[True,False],[True,True]]) #41 Method\n",
        "var25"
      ],
      "execution_count": 44,
      "outputs": [
        {
          "output_type": "execute_result",
          "data": {
            "text/plain": [
              "False"
            ]
          },
          "metadata": {
            "tags": []
          },
          "execution_count": 44
        }
      ]
    },
    {
      "cell_type": "code",
      "metadata": {
        "colab": {
          "base_uri": "https://localhost:8080/"
        },
        "id": "Loxe4vft9FCz",
        "outputId": "92413dfa-795e-4ae0-cfbe-cc69f07ec557"
      },
      "source": [
        "var26=np.any([[True, False], [True, True]]) #42 Method\n",
        "var26"
      ],
      "execution_count": 45,
      "outputs": [
        {
          "output_type": "execute_result",
          "data": {
            "text/plain": [
              "True"
            ]
          },
          "metadata": {
            "tags": []
          },
          "execution_count": 45
        }
      ]
    },
    {
      "cell_type": "code",
      "metadata": {
        "colab": {
          "base_uri": "https://localhost:8080/"
        },
        "id": "7Lp3qnPC9FFV",
        "outputId": "a125067b-3ae7-4fc9-9546-08437ced9fd1"
      },
      "source": [
        "a = np.array([1,2,3,2,3,4,3,4,5,6])\n",
        "b = np.array([7,2,10,2,7,4,9,4,9,8]) \n",
        "var26 = np.multiply(a,b)                    #43 Method\n",
        "var26"
      ],
      "execution_count": 46,
      "outputs": [
        {
          "output_type": "execute_result",
          "data": {
            "text/plain": [
              "array([ 7,  4, 30,  4, 21, 16, 27, 16, 45, 48])"
            ]
          },
          "metadata": {
            "tags": []
          },
          "execution_count": 46
        }
      ]
    },
    {
      "cell_type": "code",
      "metadata": {
        "colab": {
          "base_uri": "https://localhost:8080/"
        },
        "id": "vjslvOGb9FIG",
        "outputId": "caa1bff3-8851-4fa8-ddbd-e9cbef663cfb"
      },
      "source": [
        "a = np.array([1,2,3,2,3,4,3,4,5,6])\n",
        "b = np.array([7,2,10,2,7,4,9,4,9,8])\n",
        "var26 = np.divide(a,b)                      #44 Method\n",
        "var26\n"
      ],
      "execution_count": 47,
      "outputs": [
        {
          "output_type": "execute_result",
          "data": {
            "text/plain": [
              "array([0.14285714, 1.        , 0.3       , 1.        , 0.42857143,\n",
              "       1.        , 0.33333333, 1.        , 0.55555556, 0.75      ])"
            ]
          },
          "metadata": {
            "tags": []
          },
          "execution_count": 47
        }
      ]
    },
    {
      "cell_type": "code",
      "metadata": {
        "colab": {
          "base_uri": "https://localhost:8080/"
        },
        "id": "uL-Zmw4Z9FLB",
        "outputId": "36534e5f-b243-44db-b451-dcb9b7ba82a4"
      },
      "source": [
        "a = np.array([1,2,3,2,3,4,3,4,5,6])\n",
        "b = np.array([7,2,10,2,7,4,9,4,9,8])\n",
        "var26 = np.subtract(a,b)                    #45 Method\n",
        "var26"
      ],
      "execution_count": 48,
      "outputs": [
        {
          "output_type": "execute_result",
          "data": {
            "text/plain": [
              "array([-6,  0, -7,  0, -4,  0, -6,  0, -4, -2])"
            ]
          },
          "metadata": {
            "tags": []
          },
          "execution_count": 48
        }
      ]
    },
    {
      "cell_type": "code",
      "metadata": {
        "colab": {
          "base_uri": "https://localhost:8080/"
        },
        "id": "BqRd20po-UTv",
        "outputId": "07f63ac9-f993-419d-9d59-6123d5b4f2c9"
      },
      "source": [
        "a = np.array([1,2,3,2,3,4,3,4,5,6])\n",
        "b = np.array([7,2,10,2,7,4,9,4,9,8])\n",
        "var26 = np.add(a,b)                        #46 Method\n",
        "var26"
      ],
      "execution_count": 49,
      "outputs": [
        {
          "output_type": "execute_result",
          "data": {
            "text/plain": [
              "array([ 8,  4, 13,  4, 10,  8, 12,  8, 14, 14])"
            ]
          },
          "metadata": {
            "tags": []
          },
          "execution_count": 49
        }
      ]
    },
    {
      "cell_type": "code",
      "metadata": {
        "colab": {
          "base_uri": "https://localhost:8080/"
        },
        "id": "TKr0dXgi-UWS",
        "outputId": "5526da9d-016d-45af-f9a3-671d23568e13"
      },
      "source": [
        "a = np.array([1,2,3,2,3,4,3,4,5,6])\n",
        "b = np.array([7,2,10,2,7,4,9,4,9,8])\n",
        "var26 = np.exp(a)                       #47 Method\n",
        "var26"
      ],
      "execution_count": 50,
      "outputs": [
        {
          "output_type": "execute_result",
          "data": {
            "text/plain": [
              "array([  2.71828183,   7.3890561 ,  20.08553692,   7.3890561 ,\n",
              "        20.08553692,  54.59815003,  20.08553692,  54.59815003,\n",
              "       148.4131591 , 403.42879349])"
            ]
          },
          "metadata": {
            "tags": []
          },
          "execution_count": 50
        }
      ]
    },
    {
      "cell_type": "code",
      "metadata": {
        "colab": {
          "base_uri": "https://localhost:8080/"
        },
        "id": "TTnsY8i3-UZC",
        "outputId": "00ec93ed-ee5a-4685-af85-69968dfca4eb"
      },
      "source": [
        "a = np.array([1,2,3,2,3,4,3,4,5,6])\n",
        "b = np.array([7,2,10,2,7,4,9,4,9,8])\n",
        "var26 = np.sqrt(b)                      #48 Method\n",
        "var26"
      ],
      "execution_count": 51,
      "outputs": [
        {
          "output_type": "execute_result",
          "data": {
            "text/plain": [
              "array([2.64575131, 1.41421356, 3.16227766, 1.41421356, 2.64575131,\n",
              "       2.        , 3.        , 2.        , 3.        , 2.82842712])"
            ]
          },
          "metadata": {
            "tags": []
          },
          "execution_count": 51
        }
      ]
    },
    {
      "cell_type": "code",
      "metadata": {
        "colab": {
          "base_uri": "https://localhost:8080/"
        },
        "id": "k_ged6Xk-UcD",
        "outputId": "fb97a1cf-0bf9-4d03-d4b1-cac5837b0408"
      },
      "source": [
        "a = np.array([11, 11, 12, 13, 14, 15, 16, 17, 12, 13, 11, 14, 18, 19, 20])\n",
        "var27 = np.split(a,3)                   #49 Method ,Split array into 3 sub arrays\n",
        "var27"
      ],
      "execution_count": 52,
      "outputs": [
        {
          "output_type": "execute_result",
          "data": {
            "text/plain": [
              "[array([11, 11, 12, 13, 14]),\n",
              " array([15, 16, 17, 12, 13]),\n",
              " array([11, 14, 18, 19, 20])]"
            ]
          },
          "metadata": {
            "tags": []
          },
          "execution_count": 52
        }
      ]
    },
    {
      "cell_type": "code",
      "metadata": {
        "colab": {
          "base_uri": "https://localhost:8080/"
        },
        "id": "dcX-uFMU-UeR",
        "outputId": "ba92c7b9-68a3-4d51-b699-989bc991f3f3"
      },
      "source": [
        "a = np.array([11, 11, 12, 13, 14, 15, 16, 17, 12, 13, 11, 14, 18, 19, 20])\n",
        "var28 = np.delete(a , 1)                #50  Method Delete Element from the array (Array , index)\n",
        "var28"
      ],
      "execution_count": 53,
      "outputs": [
        {
          "output_type": "execute_result",
          "data": {
            "text/plain": [
              "array([11, 12, 13, 14, 15, 16, 17, 12, 13, 11, 14, 18, 19, 20])"
            ]
          },
          "metadata": {
            "tags": []
          },
          "execution_count": 53
        }
      ]
    },
    {
      "cell_type": "code",
      "metadata": {
        "colab": {
          "base_uri": "https://localhost:8080/"
        },
        "id": "v0QjYEwy-Ug3",
        "outputId": "69099982-1617-435a-dfc3-402c717e8ed8"
      },
      "source": [
        "a = np.array([11, 11, 12, 13, 14, 15, 16, 17, 12, 13, 11, 14, 18, 19, 20])\n",
        "var28 = np.insert(a , 4 ,555)   #50 Method Delete Element from the array (Array , index , value)\n",
        "var28"
      ],
      "execution_count": 54,
      "outputs": [
        {
          "output_type": "execute_result",
          "data": {
            "text/plain": [
              "array([ 11,  11,  12,  13, 555,  14,  15,  16,  17,  12,  13,  11,  14,\n",
              "        18,  19,  20])"
            ]
          },
          "metadata": {
            "tags": []
          },
          "execution_count": 54
        }
      ]
    }
  ]
}